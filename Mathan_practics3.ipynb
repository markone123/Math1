{
 "cells": [
  {
   "cell_type": "code",
   "execution_count": 7,
   "metadata": {},
   "outputs": [
    {
     "name": "stdout",
     "output_type": "stream",
     "text": [
      "an= 0.42073549240394825   eps= 0.42073549240394825  n= 1\n",
      "an= 0.22732435670642043   eps= 0.22732435670642043  n= 2\n",
      "an= 0.0176400010074834   eps= 0.0176400010074834  n= 3\n",
      "an= -0.04730015595674551   eps= 0.04730015595674551  n= 4\n",
      "an= -0.029966383583223077   eps= 0.029966383583223077  n= 5\n",
      "an= -0.0043658671593582166   eps= 0.0043658671593582166  n= 6\n",
      "an= 0.0051327078024905395   eps= 0.0051327078024905395  n= 7\n",
      "an= 0.003864680650872585   eps= 0.003864680650872585  n= 8\n",
      "an= 0.0008049189164878058   eps= 0.0008049189164878058  n= 9\n",
      "an= -0.0005312706161029002   eps= 0.0005312706161029002  n= 10\n",
      "an= -0.0004882764680423357   eps= 0.0004882764680423357  n= 11\n",
      "an= -0.00013099924755869994   eps= 0.00013099924755869994  n= 12\n",
      "an= 5.1289921487627065e-05   eps= 5.1289921487627065e-05  n= 13\n",
      "an= 6.046187473723574e-05   eps= 6.046187473723574e-05  n= 14\n",
      "an= 1.9845209965732325e-05   eps= 1.9845209965732325e-05  n= 15\n",
      "an= -4.393055979386372e-06   eps= 4.393055979386372e-06  n= 16\n",
      "an= -7.334880766903357e-06   eps= 7.334880766903357e-06  n= 17\n",
      "an= -2.86478899677916e-06   eps= 2.86478899677916e-06  n= 18\n",
      "an= 2.8586809094038457e-07   eps= 2.8586809094038457e-07  n= 19\n",
      "an= 8.706524379040028e-07   eps= 8.706524379040028e-07  n= 20\n",
      "an= 3.9894849707415393e-07   eps= 3.9894849707415393e-07  n= 21\n",
      "an= -2.1103165842065516e-09   eps= 2.1103165842065516e-09  n= 22\n"
     ]
    }
   ],
   "source": [
    "import math\n",
    "from decimal import Decimal\n",
    "\n",
    "def an (n):\n",
    "    an = math.sin(n)/math.pow(2,n)\n",
    "    return (an)\n",
    "\n",
    "i = 1    \n",
    "xn=0\n",
    "xnn = 0\n",
    "eps = 100\n",
    "while eps >= 0.0000001 :\n",
    "    a = an(i)\n",
    "    xn=a\n",
    "    eps = float(math.fabs(xn-xnn) )\n",
    "    print(\"an=\",a,'  eps=',eps, \" n=\", i)\n",
    "    xn = xnn\n",
    "    i=i+1"
   ]
  },
  {
   "cell_type": "code",
   "execution_count": null,
   "metadata": {},
   "outputs": [],
   "source": []
  }
 ],
 "metadata": {
  "kernelspec": {
   "display_name": "Python 3",
   "language": "python",
   "name": "python3"
  },
  "language_info": {
   "codemirror_mode": {
    "name": "ipython",
    "version": 3
   },
   "file_extension": ".py",
   "mimetype": "text/x-python",
   "name": "python",
   "nbconvert_exporter": "python",
   "pygments_lexer": "ipython3",
   "version": "3.7.3"
  }
 },
 "nbformat": 4,
 "nbformat_minor": 2
}
