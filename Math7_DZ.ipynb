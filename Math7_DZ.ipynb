{
 "cells": [
  {
   "cell_type": "markdown",
   "metadata": {},
   "source": [
    "Тема “Введение в линейную алгебру”\n",
    "5.1.\n",
    "Вектор – это частный случай матрицы 1хN и Nх1. Повторите материал для векторов, уделяя особое внимание умножению A∙B.\n",
    "Вычислите, по возможности не используя программирование: (5Е)–1, где Е – единичная матрица размера 5х5.\n",
    " "
   ]
  },
  {
   "cell_type": "markdown",
   "metadata": {},
   "source": [
    "|1 0 0 0 0|       | 0-1-1-1-1|\n",
    "\n",
    "|0 1 0 0 0|       |-1 0-1-1-1|\n",
    "\n",
    "|0 0 1 0 0| - 1 = |-1-1 0-1-1|\n",
    "\n",
    "|0 0 0 1 0|       |-1-1-1 0-1|\n",
    "\n",
    "|0 0 0 0 1|       |-1-1-1-1 0|\n"
   ]
  },
  {
   "cell_type": "markdown",
   "metadata": {},
   "source": [
    "5.2.\n",
    "Вычислите определитель:"
   ]
  },
  {
   "cell_type": "markdown",
   "metadata": {},
   "source": [
    "\n",
    "|1 2 3 |\n",
    "\n",
    "|4 0 6 | => D = 60\n",
    "\n",
    "|7 8 9 |\n",
    "  "
   ]
  },
  {
   "cell_type": "markdown",
   "metadata": {},
   "source": [
    "1. Вычислите матрицу, обратную данной:"
   ]
  },
  {
   "cell_type": "code",
   "execution_count": null,
   "metadata": {},
   "outputs": [],
   "source": [
    "\n",
    "\n",
    "    |1 2 3 |             |-0.8  0.1  0.2 |\n",
    "\n",
    "M = |4 0 6 | =>    1/M = | 0.1 -0.2  0.1 |\n",
    "\n",
    "    |7 8 9 |             | 0.53 0.1 -0.13|"
   ]
  },
  {
   "cell_type": "markdown",
   "metadata": {},
   "source": [
    "2. Приведите пример матрицы 4х4, ранг которой равен 1."
   ]
  },
  {
   "cell_type": "code",
   "execution_count": null,
   "metadata": {},
   "outputs": [],
   "source": [
    "|1 1 1 1|\n",
    "\n",
    "|2 2 2 2|\n",
    "\n",
    "|3 3 3 3|\n",
    "\n",
    "|4 4 4 4|\n",
    "\n"
   ]
  },
  {
   "cell_type": "markdown",
   "metadata": {},
   "source": [
    "Вычислите скалярное произведение двух векторов:  \n",
    "(1, 5)  и  (2, 8)\n"
   ]
  },
  {
   "cell_type": "code",
   "execution_count": null,
   "metadata": {},
   "outputs": [],
   "source": [
    "(1, 5) + (2, 8) = (3, 13) - скалярное сложение\n",
    "(1, 5) * (2, 8) = 1 · 2 + 5 · 8 = 2 + 40 = 42 - скалярное произведение"
   ]
  },
  {
   "cell_type": "markdown",
   "metadata": {},
   "source": [
    "Вычислите смешанное произведение трех векторов:\n",
    "(1, 5, 0), (2, 8, 7) и (7, 1.5, 3) "
   ]
  },
  {
   "cell_type": "code",
   "execution_count": null,
   "metadata": {},
   "outputs": [],
   "source": [
    "a · (b × c) =  1·8·3 + 5·7·7 + 0·2·1.5 - 0·8·7 - 5·2·3 - 1·7·1.5 = 24 + 245 + 0 - 0 - 30 - 10.5 = 228.5"
   ]
  }
 ],
 "metadata": {
  "kernelspec": {
   "display_name": "Python 3",
   "language": "python",
   "name": "python3"
  },
  "language_info": {
   "codemirror_mode": {
    "name": "ipython",
    "version": 3
   },
   "file_extension": ".py",
   "mimetype": "text/x-python",
   "name": "python",
   "nbconvert_exporter": "python",
   "pygments_lexer": "ipython3",
   "version": "3.7.3"
  }
 },
 "nbformat": 4,
 "nbformat_minor": 2
}
