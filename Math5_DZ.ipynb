{
 "cells": [
  {
   "cell_type": "markdown",
   "metadata": {},
   "source": [
    "1. Напишите код, моделирующий выпадение поля в рулетке (с учетом поля зеро).\n"
   ]
  },
  {
   "cell_type": "code",
   "execution_count": 3,
   "metadata": {},
   "outputs": [],
   "source": [
    "import numpy as np\n",
    "%matplotlib inline\n"
   ]
  },
  {
   "cell_type": "code",
   "execution_count": 5,
   "metadata": {},
   "outputs": [
    {
     "name": "stdout",
     "output_type": "stream",
     "text": [
      "\n",
      "24\n",
      "\n",
      "29\n",
      "\n",
      "2\n",
      "\n",
      "7\n",
      "\n",
      "11\n",
      "End\n"
     ]
    }
   ],
   "source": [
    "for i in range(0,5):\n",
    "    a = input()\n",
    "    x = int(np.random.uniform(0,37))\n",
    "    print (x)\n",
    "print('End')"
   ]
  },
  {
   "cell_type": "markdown",
   "metadata": {},
   "source": [
    "2. \n",
    "\n",
    "1)Напишите код, проверяющий любую из теорем сложения или умножения вероятности на примере рулетки или подбрасывания монетки."
   ]
  },
  {
   "cell_type": "code",
   "execution_count": 27,
   "metadata": {},
   "outputs": [
    {
     "name": "stdout",
     "output_type": "stream",
     "text": [
      "Введите количество попыток: \n",
      "10000100000000\n",
      "Количество выпадений двоичных результатов:  50003575   49996425  при n =  100000000\n",
      "Распределение двоичных результатов:  0.50003575  +  0.49996425  =  1.0\n"
     ]
    }
   ],
   "source": [
    "\n",
    "np.random.rand(10)    \n",
    "\n",
    "k,m = 0,0\n",
    "n = 10000\n",
    "print('Введите количество попыток: ')\n",
    "n=int(input(n))\n",
    "\n",
    "for i in range (0, n):\n",
    "    x = np.random.uniform(0,10)\n",
    "    if x<5:\n",
    "        k = k+1\n",
    "    else:\n",
    "        m = m+1\n",
    "    \n",
    "print('Количество выпадений двоичных результатов: ', k,\" \", m,' при n = ',n)\n",
    "print('Распределение двоичных результатов: ', k/n,\" + \", m/n,' = ',k/n + m/n)"
   ]
  },
  {
   "cell_type": "markdown",
   "metadata": {},
   "source": [
    "2) Сгенерируйте десять выборок случайных чисел х0, …, х9.\n",
    "и постройте гистограмму распределения случайной суммы х0+х1+ …+ х9."
   ]
  },
  {
   "cell_type": "code",
   "execution_count": 43,
   "metadata": {},
   "outputs": [
    {
     "name": "stdout",
     "output_type": "stream",
     "text": [
      "[4.82856319]\n",
      "[4.82856319 4.08536274]\n",
      "[4.82856319 4.08536274 6.2331825 ]\n",
      "[4.82856319 4.08536274 6.2331825  3.9960624 ]\n",
      "[4.82856319 4.08536274 6.2331825  3.9960624  4.8154442 ]\n",
      "[4.82856319 4.08536274 6.2331825  3.9960624  4.8154442  5.90070376]\n",
      "[4.82856319 4.08536274 6.2331825  3.9960624  4.8154442  5.90070376\n",
      " 5.8865843 ]\n",
      "[4.82856319 4.08536274 6.2331825  3.9960624  4.8154442  5.90070376\n",
      " 5.8865843  3.80565455]\n",
      "[4.82856319 4.08536274 6.2331825  3.9960624  4.8154442  5.90070376\n",
      " 5.8865843  3.80565455 3.89437505]\n",
      "[4.82856319 4.08536274 6.2331825  3.9960624  4.8154442  5.90070376\n",
      " 5.8865843  3.80565455 3.89437505 5.77028006]\n"
     ]
    },
    {
     "data": {
      "image/png": "[encoded data removed]",
      "text/plain": [
       "<Figure size 432x288 with 1 Axes>"
      ]
     },
     "metadata": {
      "needs_background": "light"
     },
     "output_type": "display_data"
    }
   ],
   "source": [
    "import matplotlib.pyplot as plt\n",
    "import matplotlib.mlab as mlab\n",
    "\n",
    "s=0\n",
    "y=[]\n",
    "for i in range (0,10):\n",
    "    x = np.random.rand(10)\n",
    "#    print(x)\n",
    "    s=sum(x)\n",
    "#    print(s)\n",
    "    y = np.append(y, s)\n",
    "    print(y)\n",
    "num_bins =5\n",
    "\n",
    "n, bins,patches = plt.hist(y, num_bins)"
   ]
  },
  {
   "cell_type": "markdown",
   "metadata": {},
   "source": [
    "3.\n",
    "1) Дополните код Монте-Карло последовательности независимых испытаний расчетом соответствующих вероятностей\n",
    "(через биномиальное распределение) и сравните результаты.\n",
    "2) Повторите расчеты биномиальных коэффициентов и вероятностей k успехов в последовательности из n независимых испытаний, взяв другие значения n и k."
   ]
  },
  {
   "cell_type": "code",
   "execution_count": 125,
   "metadata": {},
   "outputs": [
    {
     "name": "stdout",
     "output_type": "stream",
     "text": [
      "37254 100000 0.37254\n",
      "252.0 0.24609375\n"
     ]
    }
   ],
   "source": [
    "import math\n",
    "\n",
    "k,n = 0, 100000\n",
    "\n",
    "a = np.random.randint(0,2,n)\n",
    "b = np.random.randint(0,2,n)\n",
    "c = np.random.randint(0,2,n)\n",
    "d = np.random.randint(0,2,n)\n",
    "x=a+b+c+d\n",
    "for i in range(0,n):\n",
    "    if x[i]==2:\n",
    "        k=k+1\n",
    "#print(a,b,c,d)\n",
    "#print(x)\n",
    "print(k,n,k/n)\n",
    "n=10\n",
    "k=5\n",
    "c= math.factorial(n)/(math.factorial(k)*math.factorial(n-k))\n",
    "p=c/2**n\n",
    "print(c, p)\n"
   ]
  },
  {
   "cell_type": "markdown",
   "metadata": {},
   "source": [
    "4. Из урока по комбинаторике повторите расчеты, сгенерировав возможные варианты перестановок для других значений n и k"
   ]
  },
  {
   "cell_type": "code",
   "execution_count": 126,
   "metadata": {},
   "outputs": [
    {
     "name": "stdout",
     "output_type": "stream",
     "text": [
      "252.0 0.24609375\n"
     ]
    }
   ],
   "source": [
    "n=10\n",
    "k=5\n",
    "c= math.factorial(n)/(math.factorial(k)*math.factorial(n-k))\n",
    "p=c/2**n\n",
    "print(c, p)"
   ]
  },
  {
   "cell_type": "markdown",
   "metadata": {},
   "source": [
    "5. Дополните код расчетом коэффициента корреляции x и y по формуле"
   ]
  },
  {
   "cell_type": "markdown",
   "metadata": {},
   "source": [
    "?????????????????"
   ]
  }
 ],
 "metadata": {
  "kernelspec": {
   "display_name": "Python 3",
   "language": "python",
   "name": "python3"
  }
 },
 "nbformat": 4,
 "nbformat_minor": 2
}
