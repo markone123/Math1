{
 "cells": [
  {
   "cell_type": "markdown",
   "metadata": {},
   "source": [
    "1. Задание (на листочке)\n",
    "Решите уравнение \n",
    "sin(x)/x=0.\n",
    "\n",
    "\n",
    "x = n*Pi\n",
    "где n - целое число и n != 0\n"
   ]
  },
  {
   "cell_type": "markdown",
   "metadata": {},
   "source": [
    "2. Задание (на листочке)\n",
    "Даны три прямые y=k1*x+b1, y=k2*x+b2,, y=k3*x+b3. Как узнать, пересекаются они в одной точке или нет?\n",
    "\n",
    "Если прямые пересекаются, то у них есть единая точка (x;y)\n",
    "Нужно решить систему уравнений\n",
    "\n",
    "| y=k1*x+b1\n",
    "< y=k2*x+b2\n",
    "| y=k3*x+b3\n",
    "\n",
    "Если корни существуют, то и существует пересечение"
   ]
  },
  {
   "cell_type": "markdown",
   "metadata": {},
   "source": [
    "3. Задание (в программе или на листочке)\n",
    "На листе тетради «в линейку» (расстояние между линиями равно а) лежит игла (длиной b).\n",
    "Координаты нижней точки иглы (х,у), игла лежит под углом alfa. Пересекает ли игла линию или нет?\n",
    "\n",
    "Если выполняется неравенство\n",
    "b*sin(alfa) >= a*n-y  , где n - номер строки, то игла пересекает линию. В обратном же случае\n",
    "b*sin(alfa) < a*n-y игла не пересекает линию    \n"
   ]
  },
  {
   "cell_type": "code",
   "execution_count": null,
   "metadata": {},
   "outputs": [],
   "source": []
  }
 ],
 "metadata": {
  "kernelspec": {
   "display_name": "Python 3",
   "language": "python",
   "name": "python3"
  },
  "language_info": {
   "codemirror_mode": {
    "name": "ipython",
    "version": 3
   },
   "file_extension": ".py",
   "mimetype": "text/x-python",
   "name": "python",
   "nbconvert_exporter": "python",
   "pygments_lexer": "ipython3",
   "version": "3.7.3"
  }
 },
 "nbformat": 4,
 "nbformat_minor": 2
}
